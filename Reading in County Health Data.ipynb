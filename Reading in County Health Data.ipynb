{
 "cells": [
  {
   "cell_type": "code",
   "execution_count": 1,
   "metadata": {},
   "outputs": [],
   "source": [
    "import numpy as np\n",
    "import pandas as pd\n",
    "from os import listdir\n",
    "\n",
    "pd.set_option('display.max_rows', None)\n",
    "pd.set_option('display.max_columns', None)\n",
    "pd.set_option('display.width', None)"
   ]
  },
  {
   "cell_type": "code",
   "execution_count": 2,
   "metadata": {},
   "outputs": [],
   "source": [
    "root = \"/Users/ozaltun/Dropbox (MIT)/Data/Health/county_health_ranking\""
   ]
  },
  {
   "cell_type": "code",
   "execution_count": 3,
   "metadata": {},
   "outputs": [],
   "source": [
    "files = listdir(root)"
   ]
  },
  {
   "cell_type": "code",
   "execution_count": 4,
   "metadata": {},
   "outputs": [
    {
     "name": "stdout",
     "output_type": "stream",
     "text": [
      "2010 County Health Rankings National Data_v2.xls\n",
      "(3143, 133) (3142,)\n",
      "692\n",
      "2\n",
      "101\n",
      "2011 County Health Rankings National Data_v2_0.xls\n"
     ]
    },
    {
     "name": "stderr",
     "output_type": "stream",
     "text": [
      "/anaconda3/lib/python3.6/site-packages/ipykernel_launcher.py:26: SettingWithCopyWarning: \n",
      "A value is trying to be set on a copy of a slice from a DataFrame.\n",
      "Try using .loc[row_indexer,col_indexer] = value instead\n",
      "\n",
      "See the caveats in the documentation: https://pandas.pydata.org/pandas-docs/stable/user_guide/indexing.html#returning-a-view-versus-a-copy\n"
     ]
    },
    {
     "name": "stdout",
     "output_type": "stream",
     "text": [
      "(3143, 130) (3142,)\n",
      "656\n",
      "2\n",
      "162\n",
      "2012 County Health Rankings National Data_v2_0.xls\n",
      "(3143, 139) (3142,)\n",
      "637\n",
      "2\n",
      "52\n",
      "2013CountyHealthRankingsNationalData.xls\n",
      "(3194, 138) (3193,)\n",
      "607\n",
      "2\n",
      "49\n",
      "2014 County Health Rankings Data - v6.xls\n",
      "(3143, 162) (3142,)\n",
      "432\n",
      "2\n",
      "40\n",
      "2015 County Health Rankings Data - v3.xls\n",
      "(3143, 161) (3142,)\n",
      "432\n",
      "2\n",
      "52\n",
      "2016 County Health Rankings Data - v3.xls\n",
      "(3143, 156) (3142,)\n",
      "3\n",
      "2\n",
      "44\n",
      "2017CountyHealthRankingsData.xls\n",
      "(3136, 156) (3136,)\n",
      "0\n",
      "0\n",
      "41\n",
      "2018 County Health Rankings Data - v2.xls\n",
      "(3143, 165) (3143,)\n",
      "1\n",
      "1\n",
      "44\n"
     ]
    }
   ],
   "source": [
    "data = []\n",
    "for year in range(2010, 2019):\n",
    "    file = [i for i in files if str(year) in i]\n",
    "    file = file[0]\n",
    "    print(file)\n",
    "    # file = \"/2014 County Health Rankings Data - v6.xls\"\n",
    "    df = pd.read_excel(root+'/'+file, sheet_name=\"Ranked Measure Data\",header=[0, 1])\n",
    "    df.columns = df.columns.map(' '.join).str.strip('|')\n",
    "    columns = df.columns.values\n",
    "    columns[0] = \"FIPS\"\n",
    "    columns[1] = \"State\"\n",
    "    columns[2] = \"County\"\n",
    "\n",
    "    df.columns = columns\n",
    "    print(df.shape, df.FIPS.unique().shape)\n",
    "    print(df[\"Adult smoking % Smokers\"].isna().sum())\n",
    "    print(df[\"Adult obesity % Obese\"].isna().sum())\n",
    "    diabetic_column = [i for i in df.columns if \"iabetics\" in i]\n",
    "    diabetic_column = diabetic_column[0]\n",
    "    uninsured_column = [i for i in df.columns if \"Uninsured\" in i]\n",
    "    uninsured_column = uninsured_column[0]\n",
    "    df.rename(columns={diabetic_column:\"Diabetic screening # Diabetics\", uninsured_column:\"count.uninsured\"}, inplace=True)\n",
    "    print(df[\"Diabetic screening # Diabetics\"].isna().sum())\n",
    "    temp = df[[\"FIPS\",\"State\",\"County\", \"Adult smoking % Smokers\", \"Adult obesity % Obese\",\\\n",
    "        \"Diabetic screening # Diabetics\", \"count.uninsured\"]]\n",
    "    temp['Year'] = year\n",
    "    data.append(temp)"
   ]
  },
  {
   "cell_type": "code",
   "execution_count": 5,
   "metadata": {},
   "outputs": [],
   "source": [
    "df = pd.concat(data)"
   ]
  },
  {
   "cell_type": "code",
   "execution_count": 6,
   "metadata": {},
   "outputs": [],
   "source": [
    "df = df[df.FIPS.isna() == False]"
   ]
  },
  {
   "cell_type": "code",
   "execution_count": 7,
   "metadata": {},
   "outputs": [
    {
     "data": {
      "text/plain": [
       "(28316, 8)"
      ]
     },
     "execution_count": 7,
     "metadata": {},
     "output_type": "execute_result"
    }
   ],
   "source": [
    "df.isna().shape"
   ]
  },
  {
   "cell_type": "code",
   "execution_count": 12,
   "metadata": {},
   "outputs": [],
   "source": [
    "df2 = df.groupby([\"FIPS\"]).mean()[[\"Adult smoking % Smokers\", \"Adult obesity % Obese\",\\\n",
    "        \"Diabetic screening # Diabetics\",\"count.uninsured\"]]"
   ]
  },
  {
   "cell_type": "code",
   "execution_count": 13,
   "metadata": {},
   "outputs": [
    {
     "data": {
      "text/plain": [
       "(3199, 4)"
      ]
     },
     "execution_count": 13,
     "metadata": {},
     "output_type": "execute_result"
    }
   ],
   "source": [
    "df2.shape"
   ]
  },
  {
   "cell_type": "code",
   "execution_count": 16,
   "metadata": {},
   "outputs": [
    {
     "data": {
      "text/plain": [
       "Adult smoking % Smokers            0\n",
       "Adult obesity % Obese              0\n",
       "Diabetic screening # Diabetics    26\n",
       "count.uninsured                    1\n",
       "dtype: int64"
      ]
     },
     "execution_count": 16,
     "metadata": {},
     "output_type": "execute_result"
    }
   ],
   "source": [
    "df2.isna().sum(axis=0)"
   ]
  },
  {
   "cell_type": "code",
   "execution_count": 17,
   "metadata": {},
   "outputs": [],
   "source": [
    "df2.to_csv(root+'/county_health_ranking_mean.csv')"
   ]
  },
  {
   "cell_type": "code",
   "execution_count": null,
   "metadata": {},
   "outputs": [],
   "source": []
  }
 ],
 "metadata": {
  "kernelspec": {
   "display_name": "Python 3",
   "language": "python",
   "name": "python3"
  },
  "language_info": {
   "codemirror_mode": {
    "name": "ipython",
    "version": 3
   },
   "file_extension": ".py",
   "mimetype": "text/x-python",
   "name": "python",
   "nbconvert_exporter": "python",
   "pygments_lexer": "ipython3",
   "version": "3.6.10"
  }
 },
 "nbformat": 4,
 "nbformat_minor": 4
}
