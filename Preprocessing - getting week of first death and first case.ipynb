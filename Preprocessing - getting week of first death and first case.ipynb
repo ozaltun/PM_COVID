{
 "cells": [
  {
   "cell_type": "code",
   "execution_count": 1,
   "metadata": {},
   "outputs": [],
   "source": [
    "import numpy as np\n",
    "import pandas as pd"
   ]
  },
  {
   "cell_type": "code",
   "execution_count": 2,
   "metadata": {},
   "outputs": [],
   "source": [
    "df_cases = pd.read_csv(\"https://raw.githubusercontent.com/CSSEGISandData/COVID-19/master/csse_covid_19_data/csse_covid_19_time_series/time_series_covid19_confirmed_US.csv\")\n",
    "df_cases = df_cases[df_cases.FIPS.isna() == False]"
   ]
  },
  {
   "cell_type": "code",
   "execution_count": 3,
   "metadata": {},
   "outputs": [],
   "source": [
    "df_deaths = pd.read_csv(\"https://raw.githubusercontent.com/CSSEGISandData/COVID-19/master/csse_covid_19_data/csse_covid_19_time_series/time_series_covid19_deaths_US.csv\")\n",
    "df_deaths = df_deaths[df_deaths.FIPS.isna() == False]"
   ]
  },
  {
   "cell_type": "code",
   "execution_count": 4,
   "metadata": {},
   "outputs": [
    {
     "name": "stdout",
     "output_type": "stream",
     "text": [
      "(3251, 94)\n",
      "(3251, 95)\n"
     ]
    }
   ],
   "source": [
    "print(df_cases.shape)\n",
    "print(df_deaths.shape)"
   ]
  },
  {
   "cell_type": "code",
   "execution_count": 5,
   "metadata": {},
   "outputs": [],
   "source": [
    "dates_cases = [i for i in df_cases.columns if '/20' in i]\n",
    "dates_deaths = [i for i in df_deaths.columns if '/20' in i]\n",
    "\n",
    "cases_id_columns = [i for i in df_cases.columns if '/20' not in i]\n",
    "deaths_id_columns = [i for i in df_deaths.columns if '/20' not in i]"
   ]
  },
  {
   "cell_type": "code",
   "execution_count": 6,
   "metadata": {},
   "outputs": [
    {
     "name": "stdout",
     "output_type": "stream",
     "text": [
      "['UID', 'iso2', 'iso3', 'code3', 'FIPS', 'Admin2', 'Province_State', 'Country_Region', 'Lat', 'Long_', 'Combined_Key']\n"
     ]
    }
   ],
   "source": [
    "print(cases_id_columns)"
   ]
  },
  {
   "cell_type": "code",
   "execution_count": 7,
   "metadata": {},
   "outputs": [
    {
     "name": "stdout",
     "output_type": "stream",
     "text": [
      "['UID', 'iso2', 'iso3', 'code3', 'FIPS', 'Admin2', 'Province_State', 'Country_Region', 'Lat', 'Long_', 'Combined_Key', 'Population']\n"
     ]
    }
   ],
   "source": [
    "print(deaths_id_columns)"
   ]
  },
  {
   "cell_type": "code",
   "execution_count": 8,
   "metadata": {},
   "outputs": [],
   "source": [
    "def get_date_of_first(dates_list, row):\n",
    "    if row[0] >0:\n",
    "        return dates_list[0]\n",
    "    \n",
    "    for i in range(1, len(row)):\n",
    "        if row[i]>0 and row[i-1]==0:\n",
    "            return dates_list[i]\n",
    "    \n",
    "    return 'Not found'"
   ]
  },
  {
   "cell_type": "code",
   "execution_count": 9,
   "metadata": {},
   "outputs": [],
   "source": [
    "cases_list = list(df_cases[dates_cases].values)\n",
    "cases_fips = list(df_cases['FIPS'].values)\n",
    "first_cases_list = []\n",
    "for i in range(len(cases_list)):\n",
    "    first_cases_list.append([int(cases_fips[i]),get_date_of_first(dates_cases, cases_list[i])])"
   ]
  },
  {
   "cell_type": "code",
   "execution_count": 10,
   "metadata": {},
   "outputs": [],
   "source": [
    "deaths_list = list(df_deaths[dates_deaths].values)\n",
    "deaths_fips = list(df_deaths['FIPS'].values)\n",
    "first_deaths_list = []\n",
    "for i in range(len(deaths_list)):\n",
    "    first_deaths_list.append([int(deaths_fips[i]),get_date_of_first(dates_deaths, deaths_list[i])])"
   ]
  },
  {
   "cell_type": "code",
   "execution_count": 11,
   "metadata": {},
   "outputs": [],
   "source": [
    "df_first_cases = pd.DataFrame(first_cases_list, columns=['fips','first_case_date'])\n",
    "df_first_deaths = pd.DataFrame(first_deaths_list, columns = ['fips','first_death_date'])"
   ]
  },
  {
   "cell_type": "code",
   "execution_count": 12,
   "metadata": {},
   "outputs": [],
   "source": [
    "df = pd.concat([df_first_cases.set_index('fips'), df_first_deaths.set_index('fips')], axis=1).reset_index()"
   ]
  },
  {
   "cell_type": "code",
   "execution_count": 13,
   "metadata": {},
   "outputs": [],
   "source": [
    "df = df.replace('Not found', np.nan)"
   ]
  },
  {
   "cell_type": "code",
   "execution_count": 14,
   "metadata": {},
   "outputs": [],
   "source": [
    "df['first_case_date'] = pd.to_datetime(df['first_case_date'])\n",
    "df['first_death_date'] = pd.to_datetime(df['first_death_date'])\n",
    "\n"
   ]
  },
  {
   "cell_type": "code",
   "execution_count": 15,
   "metadata": {},
   "outputs": [],
   "source": [
    "df['first_case_week'] = df['first_case_date'].dt.to_period('W').apply(lambda r:r.start_time)\n",
    "df['first_death_week'] = df['first_death_date'].dt.to_period('W').apply(lambda r:r.start_time)\n",
    "\n"
   ]
  },
  {
   "cell_type": "code",
   "execution_count": 16,
   "metadata": {},
   "outputs": [],
   "source": [
    "df.to_csv(\"/Users/ozaltun/Documents/GitHub/PM_COVID/Data/first_date.csv\")"
   ]
  },
  {
   "cell_type": "code",
   "execution_count": null,
   "metadata": {},
   "outputs": [],
   "source": []
  }
 ],
 "metadata": {
  "kernelspec": {
   "display_name": "Python 3",
   "language": "python",
   "name": "python3"
  },
  "language_info": {
   "codemirror_mode": {
    "name": "ipython",
    "version": 3
   },
   "file_extension": ".py",
   "mimetype": "text/x-python",
   "name": "python",
   "nbconvert_exporter": "python",
   "pygments_lexer": "ipython3",
   "version": "3.6.10"
  }
 },
 "nbformat": 4,
 "nbformat_minor": 4
}
