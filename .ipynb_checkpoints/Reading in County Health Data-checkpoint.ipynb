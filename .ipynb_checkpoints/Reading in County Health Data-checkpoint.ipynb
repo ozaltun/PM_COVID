{
 "cells": [
  {
   "cell_type": "code",
   "execution_count": 2,
   "metadata": {},
   "outputs": [],
   "source": [
    "import numpy as np\n",
    "import pandas as pd\n",
    "from os import listdir"
   ]
  },
  {
   "cell_type": "code",
   "execution_count": 3,
   "metadata": {},
   "outputs": [],
   "source": [
    "root = \"/Users/ozaltun/Dropbox (MIT)/Data/Health/county_health_ranking\""
   ]
  },
  {
   "cell_type": "code",
   "execution_count": 4,
   "metadata": {},
   "outputs": [],
   "source": [
    "files = listdir(root)"
   ]
  },
  {
   "cell_type": "code",
   "execution_count": 5,
   "metadata": {},
   "outputs": [
    {
     "name": "stdout",
     "output_type": "stream",
     "text": [
      "2010 County Health Rankings National Data_v2.xls\n",
      "101\n",
      "2011 County Health Rankings National Data_v2_0.xls\n"
     ]
    },
    {
     "name": "stderr",
     "output_type": "stream",
     "text": [
      "/anaconda3/lib/python3.6/site-packages/ipykernel_launcher.py:26: SettingWithCopyWarning: \n",
      "A value is trying to be set on a copy of a slice from a DataFrame.\n",
      "Try using .loc[row_indexer,col_indexer] = value instead\n",
      "\n",
      "See the caveats in the documentation: https://pandas.pydata.org/pandas-docs/stable/user_guide/indexing.html#returning-a-view-versus-a-copy\n"
     ]
    },
    {
     "name": "stdout",
     "output_type": "stream",
     "text": [
      "162\n",
      "2012 County Health Rankings National Data_v2_0.xls\n",
      "52\n",
      "2013CountyHealthRankingsNationalData.xls\n",
      "49\n",
      "2014 County Health Rankings Data - v6.xls\n",
      "40\n",
      "2015 County Health Rankings Data - v3.xls\n",
      "52\n",
      "2016 County Health Rankings Data - v3.xls\n",
      "44\n",
      "2017CountyHealthRankingsData.xls\n",
      "41\n",
      "2018 County Health Rankings Data - v2.xls\n",
      "44\n"
     ]
    }
   ],
   "source": [
    "data = []\n",
    "for year in range(2010, 2019):\n",
    "    file = [i for i in files if str(year) in i]\n",
    "    file = file[0]\n",
    "    print(file)\n",
    "    # file = \"/2014 County Health Rankings Data - v6.xls\"\n",
    "    df = pd.read_excel(root+'/'+file, sheet_name=\"Ranked Measure Data\",header=[0, 1])\n",
    "    df.columns = df.columns.map(' '.join).str.strip('|')\n",
    "    columns = df.columns.values\n",
    "    columns[0] = \"FIPS\"\n",
    "    columns[1] = \"State\"\n",
    "    columns[2] = \"County\"\n",
    "\n",
    "    df.columns = columns\n",
    "#     print(df.shape, df.FIPS.unique().shape)\n",
    "#     print(df[\"Adult smoking % Smokers\"].isna().sum())\n",
    "#     print(df[\"Adult obesity % Obese\"].isna().sum())\n",
    "    diabetic_column = [i for i in df.columns if \"iabetics\" in i]\n",
    "    diabetic_column = diabetic_column[0]\n",
    "    uninsured_column = [i for i in df.columns if \"Uninsured\" in i]\n",
    "    uninsured_column = uninsured_column[0]\n",
    "    df.rename(columns={diabetic_column:\"Diabetic screening # Diabetics\", uninsured_column:\"count.uninsured\"}, inplace=True)\n",
    "    print(df[\"Diabetic screening # Diabetics\"].isna().sum())\n",
    "    temp = df[[\"FIPS\",\"State\",\"County\", \"Adult smoking % Smokers\", \"Adult obesity % Obese\",\\\n",
    "        \"Diabetic screening # Diabetics\", \"count.uninsured\"]]\n",
    "    temp['Year'] = year\n",
    "    data.append(temp)\n"
   ]
  },
  {
   "cell_type": "code",
   "execution_count": 11,
   "metadata": {},
   "outputs": [
    {
     "name": "stdout",
     "output_type": "stream",
     "text": [
      "2020 County Health Rankings Data - v1.xlsx\n",
      "Uninsured % Uninsured\n"
     ]
    }
   ],
   "source": [
    "year = 2020\n",
    "file = [i for i in files if str(year) in i]\n",
    "file = file[0]\n",
    "print(file)\n",
    "# file = \"/2014 County Health Rankings Data - v6.xls\"\n",
    "df = pd.read_excel(root+'/'+file, sheet_name=\"Ranked Measure Data\",header=[0, 1])\n",
    "df.columns = df.columns.map(' '.join).str.strip('|')\n",
    "\n",
    "uninsured_column = [i for i in df.columns if \"Uninsured\" in i]\n",
    "uninsured_column = uninsured_column[0]\n",
    "print(uninsured_column)\n",
    "df.rename(columns={uninsured_column:\"count.uninsured\"}, inplace=True)\n",
    "\n",
    "columns = df.columns.values\n",
    "columns[0] = \"FIPS\"\n",
    "columns[1] = \"State\"\n",
    "columns[2] = \"County\"\n",
    "\n",
    "df.columns = columns\n",
    "df_2020 = df[[\"FIPS\", \"percent.uninsured\"]]"
   ]
  },
  {
   "cell_type": "code",
   "execution_count": 12,
   "metadata": {},
   "outputs": [
    {
     "name": "stdout",
     "output_type": "stream",
     "text": [
      "(28331, 8)\n",
      "(28316, 8)\n"
     ]
    }
   ],
   "source": [
    "df = pd.concat(data)\n",
    "print(df.shape)\n",
    "df = df[df.FIPS.isna() == False]\n",
    "print(df.shape)\n",
    "df_2020 =df_2020[df_2020.FIPS.isna() == False]"
   ]
  },
  {
   "cell_type": "code",
   "execution_count": 13,
   "metadata": {},
   "outputs": [
    {
     "name": "stdout",
     "output_type": "stream",
     "text": [
      "(3142, 2)\n",
      "(3199, 1)\n"
     ]
    }
   ],
   "source": [
    "df_o_d = df[df.Year == 2018][[\"FIPS\", \"Adult obesity % Obese\",\\\n",
    "        \"Diabetic screening # Diabetics\"]]\n",
    "\n",
    "df_s = df[df.Year>=2015][[\"FIPS\", \"Adult smoking % Smokers\"]]\n",
    "df_s = df.groupby([\"FIPS\"]).mean()[[\"Adult smoking % Smokers\"]].reset_index()\n",
    "\n",
    "df_2020.FIPS = df_2020.FIPS.astype(int)\n",
    "df_o_d.FIPS = df_o_d.FIPS.astype(int)\n",
    "df_s.FIPS = df_s.FIPS.astype(int)\n",
    "\n",
    "df_2020.set_index(\"FIPS\", inplace=True)\n",
    "df_o_d.set_index(\"FIPS\", inplace=True)\n",
    "df_s.set_index(\"FIPS\", inplace=True)\n",
    "print(df_o_d.shape)\n",
    "print(df_s.shape)"
   ]
  },
  {
   "cell_type": "code",
   "execution_count": 14,
   "metadata": {},
   "outputs": [
    {
     "name": "stdout",
     "output_type": "stream",
     "text": [
      "(3199, 4)\n"
     ]
    }
   ],
   "source": [
    "df2 = df_s.join(df_o_d, how='outer')\n",
    "df2 = df2.join(df_2020, how='outer')\n",
    "print(df2.shape)"
   ]
  },
  {
   "cell_type": "code",
   "execution_count": 15,
   "metadata": {},
   "outputs": [
    {
     "data": {
      "text/plain": [
       "(3199, 4)"
      ]
     },
     "execution_count": 15,
     "metadata": {},
     "output_type": "execute_result"
    }
   ],
   "source": [
    "df2.shape"
   ]
  },
  {
   "cell_type": "code",
   "execution_count": 16,
   "metadata": {},
   "outputs": [
    {
     "data": {
      "text/plain": [
       "Adult smoking % Smokers             0\n",
       "Adult obesity % Obese              57\n",
       "Diabetic screening # Diabetics    100\n",
       "percent.uninsured                   7\n",
       "dtype: int64"
      ]
     },
     "execution_count": 16,
     "metadata": {},
     "output_type": "execute_result"
    }
   ],
   "source": [
    "df2.isna().sum(axis=0)"
   ]
  },
  {
   "cell_type": "code",
   "execution_count": 17,
   "metadata": {},
   "outputs": [],
   "source": [
    "df2.to_csv(root+'/county_health_ranking_updated.csv')"
   ]
  },
  {
   "cell_type": "code",
   "execution_count": null,
   "metadata": {},
   "outputs": [],
   "source": []
  }
 ],
 "metadata": {
  "kernelspec": {
   "display_name": "Python 3",
   "language": "python",
   "name": "python3"
  },
  "language_info": {
   "codemirror_mode": {
    "name": "ipython",
    "version": 3
   },
   "file_extension": ".py",
   "mimetype": "text/x-python",
   "name": "python",
   "nbconvert_exporter": "python",
   "pygments_lexer": "ipython3",
   "version": "3.6.10"
  }
 },
 "nbformat": 4,
 "nbformat_minor": 4
}
